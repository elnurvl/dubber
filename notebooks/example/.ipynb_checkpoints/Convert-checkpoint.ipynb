{
 "cells": [
  {
   "cell_type": "code",
   "execution_count": 1,
   "metadata": {},
   "outputs": [],
   "source": [
    "import sox\n",
    "from os import path\n",
    "from os import walk"
   ]
  },
  {
   "cell_type": "markdown",
   "metadata": {},
   "source": [
    "### Define variables"
   ]
  },
  {
   "cell_type": "code",
   "execution_count": 2,
   "metadata": {},
   "outputs": [],
   "source": [
    "raw_dir = './example/converter/raw'\n",
    "out_dir = './example/converter/converted'\n",
    "out_sample_rate=11025\n",
    "out_num_channel=1\n",
    "out_bitrate=8"
   ]
  },
  {
   "cell_type": "markdown",
   "metadata": {},
   "source": [
    "### Configure the converter"
   ]
  },
  {
   "cell_type": "code",
   "execution_count": 3,
   "metadata": {},
   "outputs": [],
   "source": [
    "tfm = sox.Transformer()\n",
    "tfm = tfm.convert(out_sample_rate, out_num_channel, out_bitrate)"
   ]
  },
  {
   "cell_type": "code",
   "execution_count": 4,
   "metadata": {},
   "outputs": [],
   "source": [
    "def sox_convert(in_path, out_path):\n",
    "    try:\n",
    "        tfm.build(in_path, out_path)\n",
    "        print(\"Converted: {}\".format(out_path))\n",
    "    except Exception as e:\n",
    "        print(\"Could not convert {}\".format(in_path))\n",
    "        print(\"Reason: {}\".format(str(e)))\n",
    "        exit()"
   ]
  },
  {
   "cell_type": "markdown",
   "metadata": {},
   "source": [
    "### Get the list of files and convert"
   ]
  },
  {
   "cell_type": "code",
   "execution_count": 5,
   "metadata": {},
   "outputs": [
    {
     "name": "stdout",
     "output_type": "stream",
     "text": [
      "Converting...\n",
      "Converted: ./example/converter/converted/absolutely.wav\n"
     ]
    }
   ],
   "source": [
    "print('Converting...')\n",
    "\n",
    "raw_files = next(walk(raw_dir), (None, None, []))\n",
    "\n",
    "for file in raw_files[2]:\n",
    "    in_path = \"{}/{}\".format(raw_dir, file)\n",
    "    out_path = \"{}/{}\".format(out_dir, file)\n",
    "    sox_convert(in_path, out_path)"
   ]
  }
 ],
 "metadata": {
  "kernelspec": {
   "display_name": "Python 3",
   "language": "python",
   "name": "python3"
  },
  "language_info": {
   "codemirror_mode": {
    "name": "ipython",
    "version": 3
   },
   "file_extension": ".py",
   "mimetype": "text/x-python",
   "name": "python",
   "nbconvert_exporter": "python",
   "pygments_lexer": "ipython3",
   "version": "3.6.8"
  }
 },
 "nbformat": 4,
 "nbformat_minor": 2
}
