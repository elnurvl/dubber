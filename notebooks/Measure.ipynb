{
 "cells": [
  {
   "cell_type": "markdown",
   "metadata": {},
   "source": [
    "## This scipt compares durations for two sets of audio files\n",
    "\n",
    "This is useful when you are doing a dubbing project where you need to monitor length of dubbed audio files, so they are close to the original ones and match the scene."
   ]
  },
  {
   "cell_type": "code",
   "execution_count": 1,
   "metadata": {},
   "outputs": [],
   "source": [
    "import sox\n",
    "from os import walk\n",
    "from os import path\n",
    "import csv"
   ]
  },
  {
   "cell_type": "markdown",
   "metadata": {},
   "source": [
    "### Set variables"
   ]
  },
  {
   "cell_type": "code",
   "execution_count": 2,
   "metadata": {},
   "outputs": [],
   "source": [
    "original_path = './example/measurer/first'\n",
    "replicated_path = './example/measurer/second'\n",
    "output = './example/measurer/durations.csv'"
   ]
  },
  {
   "cell_type": "markdown",
   "metadata": {},
   "source": [
    "### Define a function to get the duration of an audio file"
   ]
  },
  {
   "cell_type": "code",
   "execution_count": 3,
   "metadata": {},
   "outputs": [],
   "source": [
    "def sox_length(path):\n",
    "    try:\n",
    "        length = sox.file_info.duration(path)\n",
    "        return length\n",
    "    except Exception as e:\n",
    "        print(\"Error getting the file info: {}\".format(str(e)))\n",
    "        return None"
   ]
  },
  {
   "cell_type": "markdown",
   "metadata": {},
   "source": [
    "### Define a function to add content of the directory with durations of each file to a list"
   ]
  },
  {
   "cell_type": "code",
   "execution_count": 4,
   "metadata": {},
   "outputs": [],
   "source": [
    "def add_to_csv(rows, files, original=True):\n",
    "    original_path = files[0]\n",
    "    for file in files[2]:\n",
    "        name = path.splitext(file)[0].split('-')[0]\n",
    "        length = sox_length(path.join(original_path, file))\n",
    "        if (any(e[0] == name for e in rows)):\n",
    "            [e for e in rows if e[0] == name][0].append(length)\n",
    "        else:\n",
    "            if (original):\n",
    "                rows.append([name, length])\n",
    "            else:\n",
    "                rows.append([name,None,length])"
   ]
  },
  {
   "cell_type": "markdown",
   "metadata": {},
   "source": [
    "### Load list of filenames"
   ]
  },
  {
   "cell_type": "code",
   "execution_count": 5,
   "metadata": {},
   "outputs": [],
   "source": [
    "original_files = next(walk(original_path), (None, None, []))  # [] if no file\n",
    "replicated_files = next(walk(replicated_path), (None, None, []))\n",
    "headings = ['Name', 'Original'] + ['Replicated'] * 10"
   ]
  },
  {
   "cell_type": "markdown",
   "metadata": {},
   "source": [
    "### Generate rows\n",
    "\n",
    "**Column 1:** Filename without the extension and the suffix(-<number>).\n",
    "\n",
    "**Column 2:** Duration of the original audio\n",
    "\n",
    "**Column 3, 4, ...:** Duration of the replicated audio"
   ]
  },
  {
   "cell_type": "code",
   "execution_count": 6,
   "metadata": {},
   "outputs": [
    {
     "name": "stdout",
     "output_type": "stream",
     "text": [
      "Measuring...\n",
      "Ready for writing.\n"
     ]
    }
   ],
   "source": [
    "rows = list()\n",
    "\n",
    "print('Measuring...')\n",
    "\n",
    "add_to_csv(rows, original_files)\n",
    "add_to_csv(rows, replicated_files, False)\n",
    "\n",
    "print('Ready for writing.')"
   ]
  },
  {
   "cell_type": "markdown",
   "metadata": {},
   "source": [
    "### Write to a CSV file"
   ]
  },
  {
   "cell_type": "code",
   "execution_count": 7,
   "metadata": {},
   "outputs": [
    {
     "name": "stdout",
     "output_type": "stream",
     "text": [
      "Writing to a file...\n",
      "Done.\n"
     ]
    }
   ],
   "source": [
    "print('Writing to a file...')\n",
    "\n",
    "try:\n",
    "    with open(output, 'w', newline='') as csvfile:\n",
    "        writer = csv.writer(csvfile, delimiter=',',\n",
    "                                quotechar='|', quoting=csv.QUOTE_MINIMAL)\n",
    "        writer.writerow(headings)\n",
    "        writer.writerows(rows)\n",
    "        print('Done.')\n",
    "except Exception as e:\n",
    "    print(\"Error occured during writing to a file: {}\".format(str(e)))"
   ]
  }
 ],
 "metadata": {
  "kernelspec": {
   "display_name": "Python 3",
   "language": "python",
   "name": "python3"
  },
  "language_info": {
   "codemirror_mode": {
    "name": "ipython",
    "version": 3
   },
   "file_extension": ".py",
   "mimetype": "text/x-python",
   "name": "python",
   "nbconvert_exporter": "python",
   "pygments_lexer": "ipython3",
   "version": "3.6.8"
  }
 },
 "nbformat": 4,
 "nbformat_minor": 2
}
