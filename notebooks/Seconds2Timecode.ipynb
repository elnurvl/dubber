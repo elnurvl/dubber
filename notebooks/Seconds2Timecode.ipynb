{
 "cells": [
  {
   "cell_type": "markdown",
   "metadata": {},
   "source": [
    "# This script converts seconds into the timecode format in a labels file"
   ]
  },
  {
   "cell_type": "code",
   "execution_count": 20,
   "metadata": {},
   "outputs": [],
   "source": [
    "import pandas\n",
    "from decimal import Decimal"
   ]
  },
  {
   "cell_type": "markdown",
   "metadata": {},
   "source": [
    "## Define variables"
   ]
  },
  {
   "cell_type": "code",
   "execution_count": 21,
   "metadata": {},
   "outputs": [],
   "source": [
    "labels = 'example/seconds2timecode/labels.txt'\n",
    "framerate = 30\n",
    "output = 'example/seconds2timecode/labels.csv'"
   ]
  },
  {
   "cell_type": "markdown",
   "metadata": {},
   "source": [
    "## Read timecodes from the label data"
   ]
  },
  {
   "cell_type": "code",
   "execution_count": 22,
   "metadata": {},
   "outputs": [],
   "source": [
    "colnames = ['timecode_in', 'timecode_out', 'description']\n",
    "data = pandas.read_csv(labels, names=colnames, sep=\"\\t\")\n",
    "timecode_in = data.timecode_in.tolist()\n",
    "timecode_out = data.timecode_out.tolist()"
   ]
  },
  {
   "cell_type": "markdown",
   "metadata": {},
   "source": [
    "## Define a function to convert seconds into the timecode format: hh:mm:ss:ff"
   ]
  },
  {
   "cell_type": "code",
   "execution_count": 23,
   "metadata": {
    "scrolled": false
   },
   "outputs": [],
   "source": [
    "def toTimecode(seconds, framerate):\n",
    "    ms = round((Decimal(seconds) % 1) * 1000)\n",
    "    frame = ms // (1000 / framerate)\n",
    "    m, s = divmod(int(seconds), 60)\n",
    "    h, m = divmod(m, 60)\n",
    "    return f'{h:d}:{m:02d}:{s:02d}:{int(frame):02d}'"
   ]
  },
  {
   "cell_type": "markdown",
   "metadata": {},
   "source": [
    "## Loopthrough the timecodes and fix formats"
   ]
  },
  {
   "cell_type": "code",
   "execution_count": 24,
   "metadata": {},
   "outputs": [],
   "source": [
    "if len(timecode_in) != len(timecode_out):\n",
    "    raise ValueError('Invalid label file')\n",
    "\n",
    "timecode_in_formatted = [None]*len(timecode_in)\n",
    "timecode_out_formatted = [None]*len(timecode_out)\n",
    "\n",
    "for i in range(len(timecode_in)):\n",
    "    if isinstance(timecode_in[i], float):\n",
    "        timecode_in_formatted[i] = toTimecode(timecode_in[i], framerate)\n",
    "    if isinstance(timecode_in[i], float):\n",
    "        timecode_out_formatted[i] = toTimecode(timecode_out[i], framerate)"
   ]
  },
  {
   "cell_type": "markdown",
   "metadata": {},
   "source": [
    "## Write the updated content into a CSV file"
   ]
  },
  {
   "cell_type": "code",
   "execution_count": 25,
   "metadata": {},
   "outputs": [],
   "source": [
    "data = data.replace(timecode_in, timecode_in_formatted)\n",
    "data = data.replace(timecode_out, timecode_out_formatted)\n",
    "data.to_csv(output, header=False, index=False)"
   ]
  }
 ],
 "metadata": {
  "kernelspec": {
   "display_name": "Python 3",
   "language": "python",
   "name": "python3"
  },
  "language_info": {
   "codemirror_mode": {
    "name": "ipython",
    "version": 3
   },
   "file_extension": ".py",
   "mimetype": "text/x-python",
   "name": "python",
   "nbconvert_exporter": "python",
   "pygments_lexer": "ipython3",
   "version": "3.6.8"
  }
 },
 "nbformat": 4,
 "nbformat_minor": 2
}
